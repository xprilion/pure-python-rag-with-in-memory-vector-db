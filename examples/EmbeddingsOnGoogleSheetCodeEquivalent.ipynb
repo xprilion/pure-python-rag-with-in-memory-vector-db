{
  "cells": [
    {
      "cell_type": "code",
      "execution_count": 1,
      "metadata": {
        "id": "U1Ka4_nVU6gI"
      },
      "outputs": [],
      "source": [
        "from sklearn.feature_extraction.text import CountVectorizer"
      ]
    },
    {
      "cell_type": "code",
      "execution_count": 2,
      "metadata": {
        "colab": {
          "base_uri": "https://localhost:8080/"
        },
        "id": "UmVpPcCaXSJA",
        "outputId": "82bae751-8514-4be4-f965-c68239ec0f00"
      },
      "outputs": [
        {
          "output_type": "stream",
          "name": "stdout",
          "text": [
            "--2024-05-03 07:38:42--  https://github.com/xprilion/pure-python-rag-with-in-memory-vector-db/raw/main/inmemorydb.py\n",
            "Resolving github.com (github.com)... 140.82.113.4\n",
            "Connecting to github.com (github.com)|140.82.113.4|:443... connected.\n",
            "HTTP request sent, awaiting response... 302 Found\n",
            "Location: https://raw.githubusercontent.com/xprilion/pure-python-rag-with-in-memory-vector-db/main/inmemorydb.py [following]\n",
            "--2024-05-03 07:38:42--  https://raw.githubusercontent.com/xprilion/pure-python-rag-with-in-memory-vector-db/main/inmemorydb.py\n",
            "Resolving raw.githubusercontent.com (raw.githubusercontent.com)... 185.199.108.133, 185.199.111.133, 185.199.109.133, ...\n",
            "Connecting to raw.githubusercontent.com (raw.githubusercontent.com)|185.199.108.133|:443... connected.\n",
            "HTTP request sent, awaiting response... 200 OK\n",
            "Length: 1495 (1.5K) [text/plain]\n",
            "Saving to: ‘inmemorydb.py’\n",
            "\n",
            "inmemorydb.py       100%[===================>]   1.46K  --.-KB/s    in 0s      \n",
            "\n",
            "2024-05-03 07:38:42 (22.2 MB/s) - ‘inmemorydb.py’ saved [1495/1495]\n",
            "\n"
          ]
        }
      ],
      "source": [
        "%%capture\n",
        "!wget https://github.com/xprilion/pure-python-rag-with-in-memory-vector-db/raw/main/inmemorydb.py"
      ]
    },
    {
      "cell_type": "code",
      "execution_count": 3,
      "metadata": {
        "id": "czQGqh2UURk6"
      },
      "outputs": [],
      "source": [
        "from inmemorydb import InMemoryVectorDB"
      ]
    },
    {
      "cell_type": "code",
      "execution_count": 4,
      "metadata": {
        "id": "epEPnHvlUkOs"
      },
      "outputs": [],
      "source": [
        "memorydb = InMemoryVectorDB()"
      ]
    },
    {
      "cell_type": "markdown",
      "metadata": {
        "id": "kgZ-Ke6S4Ww2"
      },
      "source": [
        "## Let's test vectorization"
      ]
    },
    {
      "cell_type": "code",
      "execution_count": 5,
      "metadata": {
        "id": "eJpbn8KG4JKP"
      },
      "outputs": [],
      "source": [
        "collection = memorydb.get_or_create_collection(\"test\")"
      ]
    },
    {
      "cell_type": "code",
      "execution_count": 6,
      "metadata": {
        "id": "QNpYAxjF4MAi"
      },
      "outputs": [],
      "source": [
        "documents = [\n",
        "    \"Mohan goes to school\",\n",
        "    \"Ramesh is a boy\",\n",
        "    \"Anita is working on a project\",\n",
        "    \"Kriti has some books\"\n",
        "]\n",
        "\n",
        "metadatas = [\n",
        "    \"mohan-school\",\n",
        "    \"ramesh-boy\",\n",
        "    \"anita-working-project\",\n",
        "    \"kriti-books\"\n",
        "]\n",
        "\n",
        "ids = [\n",
        "    \"doc1\",\n",
        "    \"doc2\",\n",
        "    \"doc3\",\n",
        "    \"doc4\"\n",
        "]"
      ]
    },
    {
      "cell_type": "code",
      "execution_count": 7,
      "metadata": {
        "id": "bXXI3z3Y47Dk"
      },
      "outputs": [],
      "source": [
        "vectorizer = CountVectorizer()\n",
        "X = vectorizer.fit_transform(documents)\n",
        "bow_embeddings = X.toarray()"
      ]
    },
    {
      "cell_type": "code",
      "execution_count": 8,
      "metadata": {
        "id": "CUm16iKT5Bkx"
      },
      "outputs": [],
      "source": [
        "collection.add(\n",
        "    embeddings=bow_embeddings,\n",
        "    metadatas=metadatas,\n",
        "    documents=documents,\n",
        "    ids=ids,\n",
        ")"
      ]
    },
    {
      "cell_type": "code",
      "execution_count": 26,
      "metadata": {
        "id": "Ktz_ohIp5FPZ"
      },
      "outputs": [],
      "source": [
        "search_query = \"Who has books?\""
      ]
    },
    {
      "cell_type": "code",
      "execution_count": 27,
      "metadata": {
        "id": "tN_yiWo95Jia"
      },
      "outputs": [],
      "source": [
        "y = vectorizer.transform([search_query])"
      ]
    },
    {
      "cell_type": "code",
      "execution_count": 28,
      "metadata": {
        "id": "ADisGuWl5M0C"
      },
      "outputs": [],
      "source": [
        "y_embeddings = y.toarray()"
      ]
    },
    {
      "cell_type": "code",
      "execution_count": 29,
      "metadata": {
        "id": "_RbnTwsr5Th_"
      },
      "outputs": [],
      "source": [
        "results = collection.query(\n",
        "    query_embeddings=y_embeddings,\n",
        "    include=[\"documents\", \"metadatas\"]\n",
        ")"
      ]
    },
    {
      "cell_type": "code",
      "execution_count": 30,
      "metadata": {
        "colab": {
          "base_uri": "https://localhost:8080/"
        },
        "id": "wWrpeejP5V52",
        "outputId": "725d307b-e84a-4070-ea68-174699517f80"
      },
      "outputs": [
        {
          "output_type": "execute_result",
          "data": {
            "text/plain": [
              "{'ids': ['doc4'],\n",
              " 'documents': ['Kriti has some books'],\n",
              " 'metadatas': ['kriti-books']}"
            ]
          },
          "metadata": {},
          "execution_count": 30
        }
      ],
      "source": [
        "results"
      ]
    },
    {
      "cell_type": "code",
      "execution_count": 31,
      "metadata": {
        "id": "OgLqsdg7VPnM"
      },
      "outputs": [],
      "source": [
        "y_embeddings = y.toarray()"
      ]
    },
    {
      "cell_type": "code",
      "execution_count": 32,
      "metadata": {
        "id": "rbcE354TVQ0U"
      },
      "outputs": [],
      "source": [
        "results = collection.query(\n",
        "    query_embeddings=y_embeddings,\n",
        "    include=[\"documents\", \"metadatas\"]\n",
        ")"
      ]
    },
    {
      "cell_type": "code",
      "execution_count": 33,
      "metadata": {
        "colab": {
          "base_uri": "https://localhost:8080/"
        },
        "id": "iloAIDznVSeq",
        "outputId": "a3e6fe07-b8b3-4172-e402-fb6b996b3651"
      },
      "outputs": [
        {
          "output_type": "execute_result",
          "data": {
            "text/plain": [
              "{'ids': ['doc4'],\n",
              " 'documents': ['Kriti has some books'],\n",
              " 'metadatas': ['kriti-books']}"
            ]
          },
          "metadata": {},
          "execution_count": 33
        }
      ],
      "source": [
        "results"
      ]
    },
    {
      "cell_type": "markdown",
      "metadata": {
        "id": "UrOz5Ulc3DoI"
      },
      "source": [
        "## Generation"
      ]
    },
    {
      "cell_type": "code",
      "execution_count": 34,
      "metadata": {
        "id": "HM9GL1EkVUkA"
      },
      "outputs": [],
      "source": [
        "%%capture\n",
        "!pip install --upgrade google-cloud-aiplatform"
      ]
    },
    {
      "cell_type": "code",
      "execution_count": 35,
      "metadata": {
        "id": "XX-3AG4d3HAo"
      },
      "outputs": [],
      "source": [
        "import vertexai\n",
        "from vertexai.preview.generative_models import GenerativeModel"
      ]
    },
    {
      "cell_type": "code",
      "execution_count": 36,
      "metadata": {
        "id": "VilVcxlL3LDy"
      },
      "outputs": [],
      "source": [
        "from google.oauth2 import service_account"
      ]
    },
    {
      "cell_type": "code",
      "execution_count": 37,
      "metadata": {
        "id": "AxoEoyVP3MTM"
      },
      "outputs": [],
      "source": [
        "credentials = service_account.Credentials.from_service_account_file('gcp-adventure-x-3ef20383c9c8.json')"
      ]
    },
    {
      "cell_type": "code",
      "execution_count": 38,
      "metadata": {
        "id": "P-Kg8bG43OPs"
      },
      "outputs": [],
      "source": [
        "vertexai.init(project=\"gcp-adventure-x\", location=\"us-central1\", credentials=credentials)"
      ]
    },
    {
      "cell_type": "code",
      "execution_count": 39,
      "metadata": {
        "id": "ud4WTNCZ3Pga"
      },
      "outputs": [],
      "source": [
        "model = GenerativeModel(\"gemini-1.0-pro\")"
      ]
    },
    {
      "cell_type": "code",
      "execution_count": 40,
      "metadata": {
        "id": "kGxQxD7L3UVL"
      },
      "outputs": [],
      "source": [
        "context = \"Context: \" + results['documents'][0]"
      ]
    },
    {
      "cell_type": "code",
      "execution_count": 41,
      "metadata": {
        "colab": {
          "base_uri": "https://localhost:8080/",
          "height": 35
        },
        "id": "l36QLVbi33oF",
        "outputId": "bb03fd40-13ba-474e-862f-9731ca559a57"
      },
      "outputs": [
        {
          "output_type": "execute_result",
          "data": {
            "text/plain": [
              "'Context: Kriti has some books'"
            ],
            "application/vnd.google.colaboratory.intrinsic+json": {
              "type": "string"
            }
          },
          "metadata": {},
          "execution_count": 41
        }
      ],
      "source": [
        "context"
      ]
    },
    {
      "cell_type": "code",
      "execution_count": 42,
      "metadata": {
        "colab": {
          "base_uri": "https://localhost:8080/"
        },
        "id": "qDmqZsaX3RI-",
        "outputId": "9c925511-00cf-41c8-b2a0-d464e2097132"
      },
      "outputs": [
        {
          "output_type": "stream",
          "name": "stdout",
          "text": [
            "Kriti has some books.\n"
          ]
        }
      ],
      "source": [
        "response = model.generate_content(\n",
        "    context + \" \\n \" + search_query\n",
        ")\n",
        "print(response.text)"
      ]
    },
    {
      "cell_type": "code",
      "execution_count": null,
      "metadata": {
        "id": "drTPBlaR3wo3"
      },
      "outputs": [],
      "source": []
    }
  ],
  "metadata": {
    "colab": {
      "provenance": []
    },
    "kernelspec": {
      "display_name": "Python 3",
      "name": "python3"
    },
    "language_info": {
      "name": "python"
    }
  },
  "nbformat": 4,
  "nbformat_minor": 0
}